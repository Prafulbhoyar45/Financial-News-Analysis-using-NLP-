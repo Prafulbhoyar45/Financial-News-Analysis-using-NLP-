{
 "cells": [
  {
   "cell_type": "markdown",
   "metadata": {},
   "source": [
    "# Financial News Analysis using NLP "
   ]
  },
  {
   "cell_type": "markdown",
   "metadata": {},
   "source": [
    "**About this file**\n",
    "\n",
    "\n",
    "This dataset contains the sentiments for financial news headlines from the perspective of a retail investor. Further details about the dataset can be found in: Malo, P., Sinha, A., Takala, P., Korhonen, P. and Wallenius, J. (2014): “Good debt or bad debt: Detecting semantic orientations in economic texts.” Journal of the American Society for Information Science and Technology."
   ]
  },
  {
   "cell_type": "markdown",
   "metadata": {},
   "source": [
    "### NLP\n",
    "Natural language processing (NLP) is a subfield of linguistics, computer science, and artificial intelligence concerned with the interactions between computers and human language, in particular how to program computers to process and analyze large amounts of natural language data."
   ]
  },
  {
   "cell_type": "markdown",
   "metadata": {},
   "source": [
    "NLP is currently the focus of significant interest in the machine learning community. Some of the use cases for NLP are listed here:\n",
    "\n",
    "    -- Chatbots\n",
    "    -- Search(text and Audio)\n",
    "    -- Text Classification\n",
    "    -- Sentiment Analysis\n",
    "    -- Recomendation System\n",
    "    -- Quesstion Answering\n",
    "    -- Speech recognation\n",
    "    -- NLU (Natural Language Understanding)\n",
    "    -- NLG ( Natural Language Generation)\n",
    "\n",
    "\n",
    "You encounter many of these use cases in everyday life : when you visit web pages or perform an online search for books, or recommendation regarding movies"
   ]
  },
  {
   "cell_type": "markdown",
   "metadata": {},
   "source": [
    "**NLP Techniques**\n",
    "\n",
    "The earliest approach for solving NLP task involves rule-based approachers, which dominated the indusytry for decades. Examples of techniques using rule based approaches include Regular Expressions (RegExs) and Context Free Grammars (CFGs). RegExs are sometimes used in order to remove HTML tags from text that has been scraped from a web page or uwanted special characters from a document.\n",
    "\n",
    "The second approach involved training a machine learning model with some data that is based on some user defined features. This technique requires a considerable amount of features engineering ( a nontrivial task), and includes analyzing the text to remove undersired and superfluous content(including stop words), as well as transforming the word (e.g., converting upercase to lowercase).\n",
    "\n",
    "The most recent approach involves deep learning, whereby a neural network learns the features instead of relying on human to perform feature engineering. One of the key ideas involves mapping words to numbers, which enables us to map sentence to vector of number. After transforming documents to vector, we can perform a myriad of operations on those vector. For example we use the notion of vector space to define vector space model, where the distance between two vector can be measured by the angle between them (related to cosine similarity). If two vector are closed to each other, then it's likelier that the coresponding sentence are similar meaning. Their similarity is based on the distributional hypothesis, which asserts that words in the same contexts tent to have similar meaning.The NLP models that use deep learning can comprise CNNs, RNNs, LSTMs, and bidirectional LSTMs."
   ]
  },
  {
   "cell_type": "markdown",
   "metadata": {},
   "source": [
    "**This work tries to classifying sentiment from financial news using Combination Doc2vec and LSTM**"
   ]
  },
  {
   "cell_type": "markdown",
   "metadata": {},
   "source": [
    "### What is Sentimen Analysis ?\n",
    "Sentiment analysis refers to the use of natural language processing, text analysis, computational linguistics, and biometrics to systematically identify, extract, quantify, and study affective states and subjective information. Sentiment Analysis [2]: the process of understanding if a given text is talking positively or negatively about a given subject, aiming for brand monitoring.\n",
    "\n"
   ]
  },
  {
   "cell_type": "markdown",
   "metadata": {},
   "source": [
    "## Different Levels of Analysis"
   ]
  },
  {
   "cell_type": "markdown",
   "metadata": {},
   "source": [
    "## Document level:\n",
    "\n",
    "The task at this level is to classify whether a whole opinion document expresses a positive or negative sentiment (Pang, Lee and Vaithyanathan, 2002; Turney, 2002). For example, given a product review, the system determines whether the review expresses an overall positive or negative opinion about the product. This task is commonly known as document-level sentiment classification. This level of analysis assumes that each document expresses opinions on a single entity (e.g., a single product). Thus, it is not applicable to documents which evaluate or compare multiple entities."
   ]
  },
  {
   "cell_type": "markdown",
   "metadata": {},
   "source": [
    "## Sentence level:\n",
    "\n",
    "The task at this level goes to the sentences and determines whether each sentence expressed a positive, negative, or neutral opinion. Neutral usually means no opinion. This level of analysis is closely related to subjectivity classification (Wiebe, Bruce and O'Hara, 1999), which distinguishes sentences (called objective sentences) that express factual information from sentences (called subjective sentences) that express subjective views and opinions. However, we should note that subjectivity is not equivalent to sentiment as many objective sentences can imply opinions, e.g., “We bought the car last month and the windshield wiper has fallen off.” Researchers have also analyzed clauses (Wilson, Wiebe and Hwa, 2004), but the clause level is still not enough, e.g., “Apple is doing very well in this lousy economy.”"
   ]
  },
  {
   "cell_type": "markdown",
   "metadata": {},
   "source": [
    "## Entity and Aspect level:\n",
    "\n",
    "Both the document level and the sentence level analyses do not discover what exactly people liked and did not like. Aspect level performs finer-grained analysis. Aspect level was earlier called feature level (feature-based opinion mining and summarization) (Hu and Liu, 2004). Instead of looking at language constructs (documents, paragraphs, sentences, clauses or phrases), aspect level directly looks at the opinion itself. It is based on the idea that an opinion consists of a sentiment (positive or negative) and a target (of opinion). An opinion without its target being identified is of limited use. Realizing the importance of opinion targets also helps us understand the sentiment analysis problem better."
   ]
  },
  {
   "cell_type": "markdown",
   "metadata": {},
   "source": [
    "### What is LSTM ?\n",
    "Long Short Term Memory (LSTM) is a special kind of Recurrent Neural Network (RNN), capable of learning long-term dependencies. These long-term dependencies have a great influence on the meaning and overall polarity of a document. Long short-term memory networks (LSTM) address this long-term dependency problem by introducing a memory into the network. It was first introduced by Hochreiter & Schmidhuber."
   ]
  },
  {
   "cell_type": "markdown",
   "metadata": {},
   "source": [
    "The LSTM architecture has a range of repeated modules for each time step as in a standard RNN. At each time step, the output of the module is controlled by a set of gates, as a function of the old hidden state ℎ𝑡−1 and the input at the current time step 𝑥𝑡 : the forget gate 𝑓𝑡, the input gate 𝑖𝑡 , and the output gate 𝑂𝑡 . These gates collectively decide how to update the current memory cell 𝐶𝑡 and the current hidden state ℎ𝑡 . The LSTM transition functions are defined as follows:\n",
    "\n",
    "    𝑖𝑡=(𝑊𝑖[ℎ𝑡−1,𝑥𝑡]+𝑏𝑖)\n",
    "\n",
    "    𝐶´𝑡=𝑡𝑎𝑛ℎ(𝑊𝑐[ℎ𝑡−1,𝑥𝑡]+𝑏𝐶)\n",
    "\n",
    "    𝑓𝑡=(𝑊𝑓[ℎ𝑡−1,𝑥𝑡]+𝑏𝑓)\n",
    "\n",
    "    𝑂𝑡=(𝑊𝑜[ℎ𝑡−1,𝑥𝑡]+𝑏𝑜)\n",
    "\n",
    "    𝐶𝑡= 𝑓𝑡∗𝐶𝑡−1+𝑖𝑡∗𝐶´𝑡\n",
    "\n",
    "Here 𝜎 is logistic sigmoid function that has an output in 𝑛 [0,1] ,tanh denotes the hyperbolic tangent function that has an output ℎ 𝑖𝑛 [−1,1], and ∗ denotes the pointwise multiplication.\n",
    "\n",
    "As I mentioned before to deal with Deep learning we have to map sentence to vector of number. In this work inspired by [3] Doc2vec as the embedding used for extracting information context. The Doc2vec is an unsupervised algorithm that learns fixed-length feature representations from variable-length pieces of texts such as sentences, paragraphs, and documents."
   ]
  },
  {
   "cell_type": "markdown",
   "metadata": {},
   "source": [
    "# Let's Explore the given theory concepts"
   ]
  },
  {
   "cell_type": "code",
   "execution_count": 1,
   "metadata": {},
   "outputs": [
    {
     "name": "stderr",
     "output_type": "stream",
     "text": [
      "C:\\ProgramData\\Anaconda3\\lib\\site-packages\\tqdm\\std.py:697: FutureWarning: The Panel class is removed from pandas. Accessing it from the top-level namespace will also be removed in the next version\n",
      "  from pandas import Panel\n"
     ]
    }
   ],
   "source": [
    "## Import Libraries\n",
    "import pandas as pd # Dataframe Handling\n",
    "import numpy as np # Numirical calculations and mapping\n",
    "from tqdm import tqdm # \n",
    "from keras.preprocessing.text import Tokenizer # To tocanised the data\n",
    "tqdm.pandas(desc=\"progress-bar\") \n",
    "from gensim.models import Doc2Vec # Doc Vector model\n",
    "from sklearn import utils # It helps to generate the charts\n",
    "from sklearn.model_selection import train_test_split # To split the data\n",
    "from keras.preprocessing.sequence import pad_sequences # To specify the length of word or sentence\n",
    "import gensim # to represant the data in vectors\n",
    "from sklearn.linear_model import LogisticRegression # Logistic regression\n",
    "from gensim.models.doc2vec import TaggedDocument\n",
    "import re\n",
    "import seaborn as sns # To visualised the data\n",
    "import matplotlib.pyplot as plt # To visualised the data"
   ]
  },
  {
   "cell_type": "code",
   "execution_count": 2,
   "metadata": {},
   "outputs": [
    {
     "data": {
      "text/html": [
       "<div>\n",
       "<style scoped>\n",
       "    .dataframe tbody tr th:only-of-type {\n",
       "        vertical-align: middle;\n",
       "    }\n",
       "\n",
       "    .dataframe tbody tr th {\n",
       "        vertical-align: top;\n",
       "    }\n",
       "\n",
       "    .dataframe thead th {\n",
       "        text-align: right;\n",
       "    }\n",
       "</style>\n",
       "<table border=\"1\" class=\"dataframe\">\n",
       "  <thead>\n",
       "    <tr style=\"text-align: right;\">\n",
       "      <th></th>\n",
       "      <th>neutral</th>\n",
       "      <th>According to Gran , the company has no plans to move all production to Russia , although that is where the company is growing .</th>\n",
       "    </tr>\n",
       "  </thead>\n",
       "  <tbody>\n",
       "    <tr>\n",
       "      <th>0</th>\n",
       "      <td>neutral</td>\n",
       "      <td>Technopolis plans to develop in stages an area...</td>\n",
       "    </tr>\n",
       "    <tr>\n",
       "      <th>1</th>\n",
       "      <td>negative</td>\n",
       "      <td>The international electronic industry company ...</td>\n",
       "    </tr>\n",
       "    <tr>\n",
       "      <th>2</th>\n",
       "      <td>positive</td>\n",
       "      <td>With the new production plant the company woul...</td>\n",
       "    </tr>\n",
       "    <tr>\n",
       "      <th>3</th>\n",
       "      <td>positive</td>\n",
       "      <td>According to the company 's updated strategy f...</td>\n",
       "    </tr>\n",
       "    <tr>\n",
       "      <th>4</th>\n",
       "      <td>positive</td>\n",
       "      <td>FINANCING OF ASPOCOMP 'S GROWTH Aspocomp is ag...</td>\n",
       "    </tr>\n",
       "  </tbody>\n",
       "</table>\n",
       "</div>"
      ],
      "text/plain": [
       "    neutral  \\\n",
       "0   neutral   \n",
       "1  negative   \n",
       "2  positive   \n",
       "3  positive   \n",
       "4  positive   \n",
       "\n",
       "  According to Gran , the company has no plans to move all production to Russia , although that is where the company is growing .  \n",
       "0  Technopolis plans to develop in stages an area...                                                                               \n",
       "1  The international electronic industry company ...                                                                               \n",
       "2  With the new production plant the company woul...                                                                               \n",
       "3  According to the company 's updated strategy f...                                                                               \n",
       "4  FINANCING OF ASPOCOMP 'S GROWTH Aspocomp is ag...                                                                               "
      ]
     },
     "execution_count": 2,
     "metadata": {},
     "output_type": "execute_result"
    }
   ],
   "source": [
    "# Load and read the data\n",
    "df = pd.read_csv('all-data.csv',delimiter=',',encoding='latin-1')\n",
    "df.head() # For top 5 rows"
   ]
  },
  {
   "cell_type": "code",
   "execution_count": 3,
   "metadata": {},
   "outputs": [],
   "source": [
    "# Rename the column becxause the length of name of column in large\n",
    "df = df.rename(columns={'neutral':'sentiment','According to Gran , the company has no plans to move all production to Russia , although that is where the company is growing .':'Message'})"
   ]
  },
  {
   "cell_type": "code",
   "execution_count": 4,
   "metadata": {},
   "outputs": [
    {
     "data": {
      "text/plain": [
       "(4845, 2)"
      ]
     },
     "execution_count": 4,
     "metadata": {},
     "output_type": "execute_result"
    }
   ],
   "source": [
    "# Dimension of the data\n",
    "df.shape"
   ]
  },
  {
   "cell_type": "code",
   "execution_count": 5,
   "metadata": {},
   "outputs": [
    {
     "data": {
      "text/plain": [
       "111964"
      ]
     },
     "execution_count": 5,
     "metadata": {},
     "output_type": "execute_result"
    }
   ],
   "source": [
    "# Find the len of the message\n",
    "df.index = range(4845)\n",
    "df['Message'].apply(lambda x: len(x.split(' '))).sum()"
   ]
  },
  {
   "cell_type": "code",
   "execution_count": 6,
   "metadata": {},
   "outputs": [
    {
     "name": "stderr",
     "output_type": "stream",
     "text": [
      "C:\\ProgramData\\Anaconda3\\lib\\site-packages\\seaborn\\_decorators.py:36: FutureWarning: Pass the following variables as keyword args: x, y. From version 0.12, the only valid positional argument will be `data`, and passing other arguments without an explicit keyword will result in an error or misinterpretation.\n",
      "  warnings.warn(\n"
     ]
    },
    {
     "data": {
      "image/png": "[encoded data removed]",
      "text/plain": [
       "<Figure size 864x288 with 1 Axes>"
      ]
     },
     "metadata": {
      "needs_background": "light"
     },
     "output_type": "display_data"
    }
   ],
   "source": [
    "# VISUALIZING THE DATA\n",
    "cnt_pro = df['sentiment'].value_counts()\n",
    "plt.figure(figsize=(12,4))\n",
    "sns.barplot(cnt_pro.index, cnt_pro.values, alpha=0.8)\n",
    "plt.ylabel('Number of Occurrences', fontsize=12)\n",
    "plt.xlabel('sentiment', fontsize=12)\n",
    "plt.xticks(rotation=90)\n",
    "plt.show()"
   ]
  },
  {
   "cell_type": "code",
   "execution_count": 7,
   "metadata": {},
   "outputs": [
    {
     "name": "stdout",
     "output_type": "stream",
     "text": [
      "      sentiment                                            Message\n",
      "0             1  Technopolis plans to develop in stages an area...\n",
      "1             2  The international electronic industry company ...\n",
      "2             0  With the new production plant the company woul...\n",
      "3             0  According to the company 's updated strategy f...\n",
      "4             0  FINANCING OF ASPOCOMP 'S GROWTH Aspocomp is ag...\n",
      "...         ...                                                ...\n",
      "4840          2  LONDON MarketWatch -- Share prices ended lower...\n",
      "4841          1  Rinkuskiai 's beer sales fell by 6.5 per cent ...\n",
      "4842          2  Operating profit fell to EUR 35.4 mn from EUR ...\n",
      "4843          2  Net sales of the Paper segment decreased to EU...\n",
      "4844          2  Sales in Finland decreased by 10.5 % in Januar...\n",
      "\n",
      "[4845 rows x 2 columns]\n"
     ]
    }
   ],
   "source": [
    "#Convert sting to numeric\n",
    "sentiment  = {'positive': 0,'neutral': 1,'negative':2} \n",
    "\n",
    "df.sentiment = [sentiment[item] for item in df.sentiment] \n",
    "print(df)"
   ]
  },
  {
   "cell_type": "code",
   "execution_count": 8,
   "metadata": {},
   "outputs": [
    {
     "name": "stdout",
     "output_type": "stream",
     "text": [
      "Finnish Talentum reports its operating profit increased to EUR 20.5 mn in 2005 from EUR 9.3 mn in 2004 , and net sales totaled EUR 103.3 mn , up from EUR 96.4 mn .\n",
      "Message: 0\n"
     ]
    }
   ],
   "source": [
    "def print_message(index):\n",
    "    example = df[df.index == index][['Message', 'sentiment']].values[0]\n",
    "    if len(example) > 0:\n",
    "        print(example[0])\n",
    "        print('Message:', example[1])\n",
    "print_message(12)"
   ]
  },
  {
   "cell_type": "code",
   "execution_count": 9,
   "metadata": {},
   "outputs": [
    {
     "name": "stdout",
     "output_type": "stream",
     "text": [
      "Technopolis plans to develop in stages an area of no less than 100,000 square meters in order to host companies working in computer technologies and telecommunications , the statement said .\n",
      "Message: 1\n"
     ]
    }
   ],
   "source": [
    "# Print first message\n",
    "print_message(0)"
   ]
  },
  {
   "cell_type": "code",
   "execution_count": 10,
   "metadata": {},
   "outputs": [],
   "source": [
    "# To clean the message\n",
    "from bs4 import BeautifulSoup # it helps to clean the sentence\n",
    "def cleanText(text):\n",
    "    text = BeautifulSoup(text, \"lxml\").text\n",
    "    text = re.sub(r'\\|\\|\\|', r' ', text) \n",
    "    text = re.sub(r'http\\S+', r'<URL>', text)\n",
    "    text = text.lower()\n",
    "    text = text.replace('x', '')\n",
    "    return text\n",
    "df['Message'] = df['Message'].apply(cleanText)"
   ]
  },
  {
   "cell_type": "code",
   "execution_count": 11,
   "metadata": {},
   "outputs": [
    {
     "name": "stdout",
     "output_type": "stream",
     "text": [
      "Found 4845 unique tokens.\n"
     ]
    }
   ],
   "source": [
    "df['Message'] = df['Message'].apply(cleanText)\n",
    "train, test = train_test_split(df, test_size=0.000001 , random_state=42)\n",
    "import nltk # natural language tool kit helps to tocanised the data\n",
    "from nltk.corpus import stopwords\n",
    "def tokenize_text(text):\n",
    "    tokens = []\n",
    "    for sent in nltk.sent_tokenize(text):\n",
    "        for word in nltk.word_tokenize(sent):\n",
    "            #if len(word) < 0:\n",
    "            if len(word) <= 0:\n",
    "                continue\n",
    "            tokens.append(word.lower())\n",
    "    return tokens\n",
    "train_tagged = train.apply(\n",
    "    lambda r: TaggedDocument(words=tokenize_text(r['Message']), tags=[r.sentiment]), axis=1)\n",
    "test_tagged = test.apply(\n",
    "    lambda r: TaggedDocument(words=tokenize_text(r['Message']), tags=[r.sentiment]), axis=1)\n",
    "\n",
    "# The maximum number of words to be used. (most frequent)\n",
    "max_fatures = 500000\n",
    "\n",
    "# Max number of words in each complaint.\n",
    "MAX_SEQUENCE_LENGTH = 50\n",
    "\n",
    "#tokenizer = Tokenizer(num_words=max_fatures, split=' ')\n",
    "tokenizer = Tokenizer(num_words=max_fatures, split=' ', filters='!\"#$%&()*+,-./:;<=>?@[\\]^_`{|}~', lower=True)\n",
    "tokenizer.fit_on_texts(df['Message'].values)\n",
    "X = tokenizer.texts_to_sequences(df['Message'].values)\n",
    "X = pad_sequences(X)\n",
    "print('Found %s unique tokens.' % len(X))"
   ]
  },
  {
   "cell_type": "code",
   "execution_count": 12,
   "metadata": {},
   "outputs": [
    {
     "name": "stdout",
     "output_type": "stream",
     "text": [
      "Shape of data tensor: (4845, 50)\n"
     ]
    }
   ],
   "source": [
    "# make tose words in numirical dots\n",
    "X = tokenizer.texts_to_sequences(df['Message'].values)\n",
    "X = pad_sequences(X, maxlen=MAX_SEQUENCE_LENGTH)\n",
    "print('Shape of data tensor:', X.shape)"
   ]
  },
  {
   "cell_type": "code",
   "execution_count": 13,
   "metadata": {},
   "outputs": [
    {
     "data": {
      "text/plain": [
       "array([TaggedDocument(words=['upm-kymmene', 'has', 'generated', 'four', 'consecutive', 'quarters', 'of', 'positive', 'free', 'cash', 'flow', '.'], tags=[0]),\n",
       "       TaggedDocument(words=['in', 'the', 'method', 'the', 'smelt', 'spouts', '2', 'are', 'separated', 'from', 'the', 'working', 'area', '6', 'by', 'a', 'shielding', 'wall', '8', ',', '10', 'arranged', 'movable', 'in', 'relation', 'to', 'the', 'smelt', 'spouts', '.'], tags=[1]),\n",
       "       TaggedDocument(words=['``', 'that', \"'s\", 'a', 'very', 'high', 'figure', 'on', 'the', 'european', 'scale', ',', '``', 'noop', 'said', ',', 'recalling', 'however', 'that', 'this', 'also', 'includes', 'beer', 'bought', 'by', 'finnish', 'tourists', '.'], tags=[1]),\n",
       "       ...,\n",
       "       TaggedDocument(words=['proha', 'plc', '(', 'euronet', ':7327', ')', 'announced', 'today', '(', '19', 'may', ')', 'that', 'its', 'fully-owned', 'subsidiary', ',', 'safran', 'software', 'solutions', 'as', ',', 'has', 'agreed', 'to', 'sell', 'its', '49', '%', 'share', 'of', 'safran', 'north', 'america', 'llc', 'to', 'a', 'sna', 'holding', 'as', ',', 'an', 'investment', 'group', 'based', 'in', 'norway', '.'], tags=[1]),\n",
       "       TaggedDocument(words=['the', 'building', 'will', 'house', 'product', 'development', 'and', 'test', 'laboratories', '.'], tags=[1]),\n",
       "       TaggedDocument(words=['(', 'adp', 'news', ')', '-', 'oct', '31', ',', '2008', '-', 'finnish', 'food', 'company', 'raisio', 'oyj', '(', 'om', ':', 'raivv', ')', 'said', 'today', 'that', 'its', 'net', 'profit', 'jumped', 'to', 'eur', '16.4', 'million', '(', 'usd', '20.9', 'm', ')', 'for', 'the', 'first', 'nine', 'months', 'of', '2008', 'from', 'eur', '1.1', 'million', 'for', 'the', 'same', 'period', 'of', '2'], tags=[0])],\n",
       "      dtype=object)"
      ]
     },
     "execution_count": 13,
     "metadata": {},
     "output_type": "execute_result"
    }
   ],
   "source": [
    "#train_tagged.values[2173]\n",
    "train_tagged.values"
   ]
  },
  {
   "cell_type": "code",
   "execution_count": 14,
   "metadata": {},
   "outputs": [
    {
     "name": "stderr",
     "output_type": "stream",
     "text": [
      "100%|██████████████████████████████████████████████████████████████████████████| 4844/4844 [00:00<00:00, 404169.74it/s]\n"
     ]
    }
   ],
   "source": [
    "# apply D2V model\n",
    "d2v_model = Doc2Vec(dm=1,vector_size=20, dm_mean=1, window=8, min_count=1, workers=1, alpha=0.065, min_alpha=0.065,epochs=5)\n",
    "d2v_model.build_vocab([x for x in tqdm(train_tagged.values)])"
   ]
  },
  {
   "cell_type": "code",
   "execution_count": 15,
   "metadata": {},
   "outputs": [
    {
     "name": "stderr",
     "output_type": "stream",
     "text": [
      "100%|██████████████████████████████████████████████████████████████████████████| 4844/4844 [00:00<00:00, 606266.67it/s]\n",
      "100%|██████████████████████████████████████████████████████████████████████████| 4844/4844 [00:00<00:00, 807841.30it/s]\n",
      "100%|█████████████████████████████████████████████████████████████████████████| 4844/4844 [00:00<00:00, 1210366.29it/s]\n",
      "100%|██████████████████████████████████████████████████████████████████████████| 4844/4844 [00:00<00:00, 692687.21it/s]\n",
      "100%|██████████████████████████████████████████████████████████████████████████| 4844/4844 [00:00<00:00, 538518.04it/s]\n",
      "100%|██████████████████████████████████████████████████████████████████████████| 4844/4844 [00:00<00:00, 969471.23it/s]\n",
      "100%|█████████████████████████████████████████████████████████████████████████| 4844/4844 [00:00<00:00, 1616453.86it/s]\n",
      "100%|█████████████████████████████████████████████████████████████████████████| 4844/4844 [00:00<00:00, 1616839.77it/s]\n",
      "100%|██████████████████████████████████████████████████████████████████████████| 4844/4844 [00:00<00:00, 692050.16it/s]\n",
      "100%|█████████████████████████████████████████████████████████████████████████| 4844/4844 [00:00<00:00, 1212099.31it/s]\n",
      "100%|█████████████████████████████████████████████████████████████████████████| 4844/4844 [00:00<00:00, 1616196.69it/s]\n",
      "100%|██████████████████████████████████████████████████████████████████████████| 4844/4844 [00:00<00:00, 970165.63it/s]\n",
      "100%|█████████████████████████████████████████████████████████████████████████| 4844/4844 [00:00<00:00, 1616196.69it/s]\n",
      "100%|█████████████████████████████████████████████████████████████████████████| 4844/4844 [00:00<00:00, 1613757.63it/s]\n",
      "100%|██████████████████████████████████████████████████████████████████████████| 4844/4844 [00:00<00:00, 605724.42it/s]\n",
      "100%|██████████████████████████████████████████████████████████████████████████| 4844/4844 [00:00<00:00, 968593.09it/s]\n",
      "100%|█████████████████████████████████████████████████████████████████████████| 4844/4844 [00:00<00:00, 1215871.25it/s]\n",
      "100%|█████████████████████████████████████████████████████████████████████████| 4844/4844 [00:00<00:00, 1627199.15it/s]\n",
      "100%|█████████████████████████████████████████████████████████████████████████| 4844/4844 [00:00<00:00, 1616068.13it/s]\n",
      "100%|██████████████████████████████████████████████████████████████████████████| 4844/4844 [00:00<00:00, 973326.08it/s]\n",
      "100%|██████████████████████████████████████████████████████████████████████████| 4844/4844 [00:00<00:00, 970582.74it/s]\n",
      "100%|█████████████████████████████████████████████████████████████████████████| 4844/4844 [00:00<00:00, 1614527.06it/s]\n",
      "100%|█████████████████████████████████████████████████████████████████████████| 4844/4844 [00:00<00:00, 1210438.40it/s]\n",
      "100%|█████████████████████████████████████████████████████████████████████████| 4844/4844 [00:00<00:00, 1606865.59it/s]\n",
      "100%|██████████████████████████████████████████████████████████████████████████| 4844/4844 [00:00<00:00, 972440.94it/s]\n",
      "100%|██████████████████████████████████████████████████████████████████████████| 4844/4844 [00:00<00:00, 808034.07it/s]\n",
      "100%|██████████████████████████████████████████████████████████████████████████| 4844/4844 [00:00<00:00, 965555.01it/s]\n",
      "100%|█████████████████████████████████████████████████████████████████████████| 4844/4844 [00:00<00:00, 1626417.59it/s]\n",
      "100%|██████████████████████████████████████████████████████████████████████████| 4844/4844 [00:00<00:00, 694249.40it/s]\n",
      "100%|██████████████████████████████████████████████████████████████████████████| 4844/4844 [00:00<00:00, 972953.19it/s]\n"
     ]
    },
    {
     "name": "stdout",
     "output_type": "stream",
     "text": [
      "Wall time: 15.7 s\n"
     ]
    }
   ],
   "source": [
    "%%time\n",
    "for epoch in range(30):\n",
    "    d2v_model.train(utils.shuffle([x for x in tqdm(train_tagged.values)]), total_examples=len(train_tagged.values), epochs=1)\n",
    "    d2v_model.alpha -= 0.002\n",
    "    d2v_model.min_alpha = d2v_model.alpha"
   ]
  },
  {
   "cell_type": "code",
   "execution_count": 16,
   "metadata": {},
   "outputs": [
    {
     "name": "stdout",
     "output_type": "stream",
     "text": [
      "Doc2Vec<dm/m,d20,n5,w8,s0.001>\n"
     ]
    }
   ],
   "source": [
    "print(d2v_model)"
   ]
  },
  {
   "cell_type": "code",
   "execution_count": 17,
   "metadata": {},
   "outputs": [
    {
     "data": {
      "text/plain": [
       "11682"
      ]
     },
     "execution_count": 17,
     "metadata": {},
     "output_type": "execute_result"
    }
   ],
   "source": [
    "len(d2v_model.wv)"
   ]
  },
  {
   "cell_type": "code",
   "execution_count": 18,
   "metadata": {},
   "outputs": [
    {
     "name": "stderr",
     "output_type": "stream",
     "text": [
      "<ipython-input-18-95e16a1341c7>:4: DeprecationWarning: Call to deprecated `docvecs` (The `docvecs` property has been renamed `dv`.).\n",
      "  for i, vec in enumerate(d2v_model.docvecs.vectors):\n"
     ]
    }
   ],
   "source": [
    "# save the vectors in a new matrix\n",
    "embedding_matrix = np.zeros((len(d2v_model.wv)+ 1, 20))\n",
    "\n",
    "for i, vec in enumerate(d2v_model.docvecs.vectors):\n",
    "    while i in vec <= 1000:\n",
    "    #print(i)\n",
    "    #print(model.docvecs)\n",
    "          embedding_matrix[i]=vec\n",
    "    #print(vec)\n",
    "    #print(vec[i])"
   ]
  },
  {
   "cell_type": "code",
   "execution_count": 19,
   "metadata": {},
   "outputs": [
    {
     "data": {
      "text/plain": [
       "[('loss', 0.9108386039733887),\n",
       " ('sales', 0.7973217964172363),\n",
       " ('profits', 0.7576896548271179),\n",
       " ('turnover', 0.746253490447998),\n",
       " ('income', 0.7415260076522827),\n",
       " ('pharma', 0.692173182964325),\n",
       " ('larger-than-epected', 0.6914839148521423),\n",
       " ('ns1v', 0.6873822808265686),\n",
       " ('originally', 0.6847700476646423),\n",
       " ('bill', 0.680260419845581)]"
      ]
     },
     "execution_count": 19,
     "metadata": {},
     "output_type": "execute_result"
    }
   ],
   "source": [
    "# Top 10 with profit word\n",
    "d2v_model.wv.most_similar(positive=['profit'], topn=10)"
   ]
  },
  {
   "cell_type": "code",
   "execution_count": 20,
   "metadata": {},
   "outputs": [
    {
     "data": {
      "text/plain": [
       "[('appeal', 0.7885555624961853),\n",
       " ('property', 0.7696755528450012),\n",
       " ('karhinen', 0.7405270338058472),\n",
       " ('estate', 0.7381441593170166),\n",
       " ('organization', 0.7297702431678772),\n",
       " ('equity', 0.7217682003974915),\n",
       " ('warnings', 0.7113656997680664),\n",
       " ('rohwedder', 0.709439754486084),\n",
       " ('non-restricted', 0.7023128867149353),\n",
       " ('detailing', 0.7015187740325928)]"
      ]
     },
     "execution_count": 20,
     "metadata": {},
     "output_type": "execute_result"
    }
   ],
   "source": [
    "# Top 10 with investment word\n",
    "d2v_model.wv.most_similar(positive=['investment'], topn=10)\n"
   ]
  },
  {
   "cell_type": "code",
   "execution_count": 21,
   "metadata": {},
   "outputs": [
    {
     "data": {
      "text/plain": [
       "[('mold', 0.9611244797706604),\n",
       " ('gather', 0.8924813270568848),\n",
       " ('macro-economic', 0.8824651837348938),\n",
       " ('mursula', 0.8562044501304626),\n",
       " ('biscuits', 0.8543246388435364),\n",
       " ('aptly', 0.8493544459342957),\n",
       " ('else', 0.83978670835495),\n",
       " ('breakfast', 0.8378297686576843),\n",
       " ('umbrellas', 0.8366750478744507),\n",
       " ('campbell', 0.8338345289230347)]"
      ]
     },
     "execution_count": 21,
     "metadata": {},
     "output_type": "execute_result"
    }
   ],
   "source": [
    "# Top 10 with broke word\n",
    "d2v_model.wv.most_similar(positive=['broke'], topn=10)"
   ]
  },
  {
   "cell_type": "code",
   "execution_count": 22,
   "metadata": {},
   "outputs": [],
   "source": [
    "#Plot Similarity word in Doc2vec\n",
    "from sklearn.manifold import TSNE\n",
    "import matplotlib.pyplot as plt\n",
    "%matplotlib inline"
   ]
  },
  {
   "cell_type": "code",
   "execution_count": 23,
   "metadata": {},
   "outputs": [],
   "source": [
    "def tsne_plot(model):\n",
    "    \"Creates and TSNE model and plots it\"\n",
    "    labels = []\n",
    "    tokens = []\n",
    "\n",
    "    for word in d2v_model.wv.vocab:\n",
    "        tokens.append(model[word])\n",
    "        labels.append(word)\n",
    "    \n",
    "    tsne_model = TSNE(perplexity=40, n_components=2, init='pca', n_iter=250, random_state=23)\n",
    "    new_values = tsne_model.fit_transform(tokens)\n",
    "\n",
    "    x = []\n",
    "    y = []\n",
    "    for value in new_values:\n",
    "        x.append(value[0])\n",
    "        y.append(value[1])\n",
    "        \n",
    "    plt.figure(figsize=(16, 16)) \n",
    "    for i in range(len(x)):\n",
    "        plt.scatter(x[i],y[i])\n",
    "        plt.annotate(labels[i],\n",
    "                     xy=(x[i], y[i]),\n",
    "                     xytext=(5, 2),\n",
    "                     textcoords='offset points',\n",
    "                     ha='right',\n",
    "                     va='bottom')\n",
    "    plt.show()"
   ]
  },
  {
   "cell_type": "markdown",
   "metadata": {},
   "source": [
    "# Create the LSTM Model"
   ]
  },
  {
   "cell_type": "code",
   "execution_count": 24,
   "metadata": {},
   "outputs": [
    {
     "name": "stdout",
     "output_type": "stream",
     "text": [
      "Model: \"sequential\"\n",
      "_________________________________________________________________\n",
      "Layer (type)                 Output Shape              Param #   \n",
      "=================================================================\n",
      "embedding (Embedding)        (None, 50, 20)            233660    \n",
      "_________________________________________________________________\n",
      "lstm (LSTM)                  (None, 50)                14200     \n",
      "_________________________________________________________________\n",
      "dense (Dense)                (None, 3)                 153       \n",
      "=================================================================\n",
      "Total params: 248,013\n",
      "Trainable params: 248,013\n",
      "Non-trainable params: 0\n",
      "_________________________________________________________________\n"
     ]
    }
   ],
   "source": [
    "from keras.models import Sequential\n",
    "from keras.layers import LSTM, Dense, Embedding\n",
    "\n",
    "\n",
    "# init layer\n",
    "model = Sequential()\n",
    "\n",
    "# emmbed word vectors\n",
    "model.add(Embedding(len(d2v_model.wv)+1,20,input_length=X.shape[1],weights=[embedding_matrix],trainable=True))\n",
    "\n",
    "# learn the correlations\n",
    "def split_input(sequence):\n",
    "     return sequence[:-1], tf.reshape(sequence[1:], (-1,1))\n",
    "model.add(LSTM(50,return_sequences=False))\n",
    "model.add(Dense(3,activation=\"softmax\"))\n",
    "\n",
    "# output model skeleton\n",
    "model.summary()\n",
    "model.compile(optimizer=\"adam\",loss=\"binary_crossentropy\",metrics=['acc'])"
   ]
  },
  {
   "cell_type": "markdown",
   "metadata": {},
   "source": [
    "pip install pydot"
   ]
  },
  {
   "cell_type": "code",
   "execution_count": 29,
   "metadata": {},
   "outputs": [
    {
     "name": "stdout",
     "output_type": "stream",
     "text": [
      "('Failed to import pydot. You must `pip install pydot` and install graphviz (https://graphviz.gitlab.io/download/), ', 'for `pydotprint` to work.')\n"
     ]
    }
   ],
   "source": [
    "from keras.utils import plot_model\n",
    "plot_model(model, to_file='model.png')"
   ]
  },
  {
   "cell_type": "markdown",
   "metadata": {},
   "source": [
    "pip install graphviz"
   ]
  },
  {
   "cell_type": "code",
   "execution_count": 30,
   "metadata": {},
   "outputs": [
    {
     "name": "stdout",
     "output_type": "stream",
     "text": [
      "(4118, 50) (4118, 3)\n",
      "(727, 50) (727, 3)\n"
     ]
    }
   ],
   "source": [
    "# to Train the model split the datapoints\n",
    "Y = pd.get_dummies(df['sentiment']).values\n",
    "X_train, X_test, Y_train, Y_test = train_test_split(X,Y, test_size = 0.15, random_state = 42)\n",
    "print(X_train.shape,Y_train.shape)\n",
    "print(X_test.shape,Y_test.shape)"
   ]
  },
  {
   "cell_type": "code",
   "execution_count": 31,
   "metadata": {},
   "outputs": [
    {
     "name": "stdout",
     "output_type": "stream",
     "text": [
      "Epoch 1/50\n",
      "129/129 - 10s - loss: 0.5590 - acc: 0.5954\n",
      "Epoch 2/50\n",
      "129/129 - 3s - loss: 0.4324 - acc: 0.6858\n",
      "Epoch 3/50\n",
      "129/129 - 3s - loss: 0.3113 - acc: 0.7817\n",
      "Epoch 4/50\n",
      "129/129 - 3s - loss: 0.2439 - acc: 0.8278\n",
      "Epoch 5/50\n",
      "129/129 - 3s - loss: 0.1887 - acc: 0.8749\n",
      "Epoch 6/50\n",
      "129/129 - 4s - loss: 0.1404 - acc: 0.9271\n",
      "Epoch 7/50\n",
      "129/129 - 4s - loss: 0.0899 - acc: 0.9592\n",
      "Epoch 8/50\n",
      "129/129 - 4s - loss: 0.0560 - acc: 0.9784\n",
      "Epoch 9/50\n",
      "129/129 - 4s - loss: 0.0407 - acc: 0.9828\n",
      "Epoch 10/50\n",
      "129/129 - 4s - loss: 0.0304 - acc: 0.9866\n",
      "Epoch 11/50\n",
      "129/129 - 4s - loss: 0.0276 - acc: 0.9879\n",
      "Epoch 12/50\n",
      "129/129 - 3s - loss: 0.0244 - acc: 0.9900\n",
      "Epoch 13/50\n",
      "129/129 - 3s - loss: 0.0152 - acc: 0.9947\n",
      "Epoch 14/50\n",
      "129/129 - 3s - loss: 0.0324 - acc: 0.9857\n",
      "Epoch 15/50\n",
      "129/129 - 3s - loss: 0.0218 - acc: 0.9913\n",
      "Epoch 16/50\n",
      "129/129 - 4s - loss: 0.0123 - acc: 0.9956\n",
      "Epoch 17/50\n",
      "129/129 - 3s - loss: 0.0138 - acc: 0.9942\n",
      "Epoch 18/50\n",
      "129/129 - 3s - loss: 0.0094 - acc: 0.9976\n",
      "Epoch 19/50\n",
      "129/129 - 3s - loss: 0.0118 - acc: 0.9959\n",
      "Epoch 20/50\n",
      "129/129 - 3s - loss: 0.0107 - acc: 0.9964\n",
      "Epoch 21/50\n",
      "129/129 - 3s - loss: 0.0072 - acc: 0.9976\n",
      "Epoch 22/50\n",
      "129/129 - 3s - loss: 0.0100 - acc: 0.9968\n",
      "Epoch 23/50\n",
      "129/129 - 3s - loss: 0.0059 - acc: 0.9978\n",
      "Epoch 24/50\n",
      "129/129 - 3s - loss: 0.0074 - acc: 0.9976\n",
      "Epoch 25/50\n",
      "129/129 - 3s - loss: 0.0047 - acc: 0.9981\n",
      "Epoch 26/50\n",
      "129/129 - 3s - loss: 0.0158 - acc: 0.9932\n",
      "Epoch 27/50\n",
      "129/129 - 3s - loss: 0.0093 - acc: 0.9971\n",
      "Epoch 28/50\n",
      "129/129 - 3s - loss: 0.0126 - acc: 0.9942\n",
      "Epoch 29/50\n",
      "129/129 - 3s - loss: 0.0101 - acc: 0.9947\n",
      "Epoch 30/50\n",
      "129/129 - 4s - loss: 0.0074 - acc: 0.9971\n",
      "Epoch 31/50\n",
      "129/129 - 3s - loss: 0.0040 - acc: 0.9981\n",
      "Epoch 32/50\n",
      "129/129 - 4s - loss: 0.0043 - acc: 0.9976\n",
      "Epoch 33/50\n",
      "129/129 - 4s - loss: 0.0043 - acc: 0.9978\n",
      "Epoch 34/50\n",
      "129/129 - 4s - loss: 0.0063 - acc: 0.9976\n",
      "Epoch 35/50\n",
      "129/129 - 3s - loss: 0.0094 - acc: 0.9971\n",
      "Epoch 36/50\n",
      "129/129 - 3s - loss: 0.0049 - acc: 0.9985\n",
      "Epoch 37/50\n",
      "129/129 - 3s - loss: 0.0071 - acc: 0.9971\n",
      "Epoch 38/50\n",
      "129/129 - 3s - loss: 0.0028 - acc: 0.9988\n",
      "Epoch 39/50\n",
      "129/129 - 3s - loss: 0.0027 - acc: 0.9985\n",
      "Epoch 40/50\n",
      "129/129 - 3s - loss: 0.0028 - acc: 0.9978\n",
      "Epoch 41/50\n",
      "129/129 - 3s - loss: 0.0022 - acc: 0.9990\n",
      "Epoch 42/50\n",
      "129/129 - 3s - loss: 0.0031 - acc: 0.9983\n",
      "Epoch 43/50\n",
      "129/129 - 3s - loss: 0.0030 - acc: 0.9985\n",
      "Epoch 44/50\n",
      "129/129 - 3s - loss: 0.0016 - acc: 0.9993\n",
      "Epoch 45/50\n",
      "129/129 - 3s - loss: 0.0097 - acc: 0.9956\n",
      "Epoch 46/50\n",
      "129/129 - 3s - loss: 0.0070 - acc: 0.9964\n",
      "Epoch 47/50\n",
      "129/129 - 3s - loss: 0.0099 - acc: 0.9956\n",
      "Epoch 48/50\n",
      "129/129 - 3s - loss: 0.0037 - acc: 0.9983\n",
      "Epoch 49/50\n",
      "129/129 - 4s - loss: 0.0309 - acc: 0.9888\n",
      "Epoch 50/50\n",
      "129/129 - 3s - loss: 0.0089 - acc: 0.9976\n"
     ]
    }
   ],
   "source": [
    "# Set the batch size\n",
    "\n",
    "batch_size = 32 # 32 batches are made\n",
    "# Train those 32 batches separetly and check there accurecy\n",
    "history=model.fit(X_train, Y_train, epochs =50, batch_size=batch_size, verbose = 2) "
   ]
  },
  {
   "cell_type": "code",
   "execution_count": 32,
   "metadata": {},
   "outputs": [
    {
     "data": {
      "image/png": "[encoded data removed]",
      "text/plain": [
       "<Figure size 432x288 with 1 Axes>"
      ]
     },
     "metadata": {
      "needs_background": "light"
     },
     "output_type": "display_data"
    },
    {
     "data": {
      "image/png": "[encoded data removed]",
      "text/plain": [
       "<Figure size 432x288 with 1 Axes>"
      ]
     },
     "metadata": {
      "needs_background": "light"
     },
     "output_type": "display_data"
    },
    {
     "data": {
      "text/plain": [
       "<Figure size 432x288 with 0 Axes>"
      ]
     },
     "metadata": {},
     "output_type": "display_data"
    }
   ],
   "source": [
    "# Plot the results (Accurecy and loss)\n",
    "\n",
    "plt.plot(history.history['acc'])\n",
    "plt.title('model accuracy')\n",
    "plt.ylabel('acc')\n",
    "plt.xlabel('epochs')\n",
    "plt.legend(['train', 'test'], loc='upper left')\n",
    "plt.show()\n",
    "plt.savefig('model_accuracy.png')\n",
    "\n",
    "# summarize history for loss\n",
    "plt.plot(history.history['loss'])\n",
    "#plt.plot(history.history['val_loss'])\n",
    "plt.title('model loss')\n",
    "plt.ylabel('loss')\n",
    "plt.xlabel('epochs')\n",
    "plt.legend(['train', 'test'], loc='upper left')\n",
    "plt.show()\n",
    "plt.savefig('model_loss.png')"
   ]
  },
  {
   "cell_type": "code",
   "execution_count": 33,
   "metadata": {},
   "outputs": [
    {
     "name": "stdout",
     "output_type": "stream",
     "text": [
      "129/129 - 2s - loss: 0.0043 - acc: 0.9988\n",
      "23/23 - 0s - loss: 1.1497 - acc: 0.7166\n",
      "Train: 0.999, Test: 0.7166\n"
     ]
    }
   ],
   "source": [
    "# evaluate the model\n",
    "_, train_acc = model.evaluate(X_train, Y_train, verbose=2)\n",
    "_, test_acc = model.evaluate(X_test, Y_test, verbose=2)\n",
    "print('Train: %.3f, Test: %.4f' % (train_acc, test_acc))"
   ]
  },
  {
   "cell_type": "code",
   "execution_count": 34,
   "metadata": {},
   "outputs": [
    {
     "name": "stdout",
     "output_type": "stream",
     "text": [
      "[[4.3916603e-07 9.9999940e-01 1.1227933e-07]\n",
      " [9.9999905e-01 1.1340623e-07 8.9236471e-07]\n",
      " [9.1908396e-07 9.9999869e-01 3.1600985e-07]\n",
      " ...\n",
      " [4.7750432e-02 5.0357246e-04 9.5174599e-01]\n",
      " [1.1223220e-06 9.9999869e-01 2.9577805e-07]\n",
      " [9.9974710e-01 2.1984818e-04 3.3064316e-05]]\n"
     ]
    },
    {
     "name": "stderr",
     "output_type": "stream",
     "text": [
      "C:\\Users\\abc\\AppData\\Roaming\\Python\\Python38\\site-packages\\tensorflow\\python\\keras\\engine\\sequential.py:450: UserWarning: `model.predict_classes()` is deprecated and will be removed after 2021-01-01. Please use instead:* `np.argmax(model.predict(x), axis=-1)`,   if your model does multi-class classification   (e.g. if it uses a `softmax` last-layer activation).* `(model.predict(x) > 0.5).astype(\"int32\")`,   if your model does binary classification   (e.g. if it uses a `sigmoid` last-layer activation).\n",
      "  warnings.warn('`model.predict_classes()` is deprecated and '\n"
     ]
    },
    {
     "name": "stdout",
     "output_type": "stream",
     "text": [
      "[1 0 1 0 1 1 1 1 1 1 1 1 0 2 1 1 1 1 0 0 1 1 0 0 1 0 1 1 0 2 1 1 1 2 1 1 0\n",
      " 0 1 1 0 1 2 1 0 1 1 1 0 1 2 1 0 2 1 0 1 1 0 1 0 0 0 0 1 1 1 1 0 2 1 0 0 1\n",
      " 0 1 1 1 1 0 1 2 0 1 0 0 1 0 1 0 0 1 1 2 1 1 0 1 0 1 2 1 1 2 0 1 1 1 2 1 1\n",
      " 1 2 1 1 0 0 0 0 0 0 0 0 1 1 1 0 0 0 1 1 1 2 1 0 1 0 1 1 1 1 0 1 0 1 1 2 1\n",
      " 0 1 1 1 1 1 1 0 0 1 2 2 0 1 1 0 1 0 1 2 1 0 1 0 0 1 0 2 0 0 1 0 0 0 0 1 1\n",
      " 2 1 2 1 1 1 0 0 1 0 0 1 1 1 0 1 1 1 1 1 0 1 1 0 1 0 1 1 1 1 1 0 2 1 0 0 0\n",
      " 1 0 1 1 1 0 1 1 1 0 0 1 2 0 1 1 1 1 1 1 1 0 0 1 1 1 1 0 1 1 0 1 2 0 1 1 1\n",
      " 1 1 0 1 0 2 2 0 1 1 1 1 1 2 0 1 1 0 0 0 0 1 0 1 1 1 1 1 1 0 1 0 1 0 2 2 1\n",
      " 1 1 0 1 0 1 0 1 1 2 1 0 1 0 1 2 0 1 1 1 1 1 1 0 1 1 0 1 0 1 1 0 1 1 1 1 1\n",
      " 1 0 0 1 0 0 1 0 0 1 0 1 2 1 0 1 1 0 1 0 2 1 1 0 1 2 0 1 1 2 1 0 0 0 2 1 0\n",
      " 0 0 1 1 1 1 1 1 0 0 0 0 2 1 0 0 0 1 0 1 0 0 1 0 1 0 1 1 1 0 0 1 1 1 2 2 1\n",
      " 0 1 1 0 1 0 0 1 0 0 0 1 0 1 0 0 1 2 1 1 1 0 1 0 0 1 1 1 0 0 0 2 1 1 0 1 1\n",
      " 0 1 1 2 0 2 1 1 1 0 1 0 2 1 1 0 1 0 1 0 1 0 1 0 1 0 1 1 1 1 1 1 1 0 1 0 1\n",
      " 0 1 0 0 1 2 1 1 0 0 1 0 1 1 0 1 1 1 2 1 1 1 0 0 1 1 1 1 1 0 0 0 1 0 0 1 0\n",
      " 2 0 0 0 0 1 1 1 1 0 0 1 1 1 0 1 1 1 1 1 1 1 1 1 1 0 1 1 1 0 2 1 1 1 1 1 1\n",
      " 0 2 1 0 1 1 0 2 0 1 0 1 0 2 1 1 1 1 1 0 1 1 1 2 1 1 1 0 1 2 0 1 1 1 1 1 1\n",
      " 1 0 0 1 1 1 2 0 0 1 0 1 2 0 2 1 2 1 0 1 1 0 1 1 1 2 1 0 0 2 1 1 1 0 0 0 1\n",
      " 1 1 0 1 1 0 1 1 0 1 1 2 1 1 0 1 1 0 1 1 2 0 0 2 0 1 0 0 0 1 1 0 0 1 1 1 2\n",
      " 1 1 1 0 1 1 1 1 0 1 1 1 2 2 1 1 1 1 1 1 1 0 0 0 1 0 1 0 0 2 1 0 1 1 1 0 1\n",
      " 2 1 0 1 0 1 0 1 2 1 1 1 1 1 0 0 0 0 0 1 1 2 1 0]\n"
     ]
    }
   ],
   "source": [
    "# predict probabilities for test set\n",
    "yhat_probs = model.predict(X_test, verbose=0)\n",
    "print(yhat_probs)\n",
    "# predict crisp classes for test set\n",
    "yhat_classes = model.predict_classes(X_test, verbose=0)\n",
    "print(yhat_classes)\n",
    "# reduce to 1d array\n",
    "#yhat_probs = yhat_probs[:, 0]\n",
    "#yhat_classes = yhat_classes[:, 1"
   ]
  },
  {
   "cell_type": "code",
   "execution_count": 35,
   "metadata": {},
   "outputs": [
    {
     "data": {
      "text/plain": [
       "array([1, 0, 1, 1, 1, 1, 1, 1, 1, 1, 1, 0, 1, 2, 1, 0, 1, 0, 0, 2, 2, 1,\n",
       "       0, 0, 1, 0, 1, 0, 0, 2, 1, 1, 0, 2, 1, 0, 2, 0, 1, 1, 0, 1, 2, 1,\n",
       "       0, 1, 1, 1, 0, 0, 2, 1, 0, 2, 1, 0, 1, 1, 1, 1, 0, 0, 0, 1, 2, 1,\n",
       "       0, 1, 1, 1, 1, 0, 0, 0, 0, 1, 0, 1, 1, 0, 1, 2, 0, 1, 0, 0, 0, 0,\n",
       "       0, 0, 0, 1, 2, 2, 1, 0, 1, 1, 0, 1, 2, 1, 1, 2, 1, 1, 1, 1, 1, 1,\n",
       "       1, 0, 2, 1, 1, 0, 0, 0, 0, 0, 0, 1, 1, 1, 1, 0, 0, 1, 0, 1, 2, 0,\n",
       "       1, 1, 0, 1, 0, 2, 1, 1, 1, 1, 1, 0, 1, 1, 1, 1, 0, 1, 1, 1, 1, 1,\n",
       "       1, 1, 1, 1, 2, 2, 0, 0, 1, 0, 1, 0, 1, 2, 1, 1, 1, 0, 1, 1, 0, 1,\n",
       "       1, 1, 1, 1, 0, 0, 1, 0, 1, 2, 1, 2, 1, 2, 1, 1, 0, 0, 1, 0, 2, 1,\n",
       "       2, 0, 1, 1, 0, 2, 1, 0, 1, 0, 0, 1, 1, 1, 1, 1, 1, 1, 1, 2, 0, 1,\n",
       "       0, 1, 1, 1, 2, 1, 1, 0, 1, 1, 1, 0, 0, 1, 2, 0, 1, 0, 1, 1, 1, 1,\n",
       "       1, 2, 0, 0, 0, 1, 1, 1, 1, 1, 0, 1, 1, 1, 1, 1, 1, 1, 1, 0, 1, 0,\n",
       "       2, 1, 2, 1, 1, 0, 1, 1, 2, 0, 1, 1, 1, 1, 1, 0, 1, 0, 1, 1, 0, 1,\n",
       "       1, 1, 2, 1, 0, 1, 0, 2, 2, 1, 1, 1, 0, 1, 0, 1, 1, 2, 1, 2, 1, 0,\n",
       "       1, 0, 1, 2, 1, 1, 0, 1, 1, 1, 1, 0, 1, 1, 0, 1, 0, 1, 1, 0, 1, 1,\n",
       "       1, 1, 0, 0, 0, 0, 0, 0, 1, 1, 1, 1, 0, 1, 1, 1, 2, 0, 2, 1, 0, 1,\n",
       "       1, 1, 1, 1, 0, 1, 2, 0, 1, 1, 1, 1, 0, 0, 1, 2, 1, 0, 0, 0, 1, 1,\n",
       "       1, 0, 1, 0, 2, 0, 0, 1, 2, 1, 0, 1, 0, 1, 1, 1, 1, 0, 1, 0, 1, 2,\n",
       "       2, 1, 0, 1, 1, 0, 1, 1, 2, 2, 0, 1, 1, 1, 1, 1, 0, 0, 1, 2, 0, 1,\n",
       "       1, 0, 2, 0, 1, 2, 2, 1, 1, 2, 1, 1, 0, 0, 1, 1, 1, 1, 1, 0, 2, 0,\n",
       "       1, 0, 1, 1, 1, 1, 0, 2, 1, 2, 1, 1, 1, 1, 1, 1, 2, 1, 1, 0, 1, 1,\n",
       "       1, 1, 1, 1, 1, 2, 1, 2, 1, 1, 1, 1, 1, 1, 0, 1, 1, 0, 1, 0, 1, 0,\n",
       "       1, 1, 1, 1, 0, 0, 1, 1, 1, 1, 1, 1, 1, 0, 1, 1, 1, 2, 1, 1, 0, 1,\n",
       "       1, 1, 1, 1, 2, 0, 0, 1, 0, 1, 0, 1, 1, 1, 1, 0, 0, 1, 1, 1, 0, 0,\n",
       "       1, 1, 2, 1, 0, 1, 1, 1, 1, 1, 1, 1, 1, 0, 1, 0, 1, 1, 0, 0, 2, 0,\n",
       "       0, 1, 1, 1, 1, 0, 2, 1, 0, 1, 1, 0, 2, 2, 1, 0, 1, 0, 2, 0, 0, 1,\n",
       "       1, 1, 1, 1, 1, 1, 2, 1, 1, 0, 0, 1, 1, 0, 1, 1, 1, 1, 0, 1, 1, 0,\n",
       "       0, 1, 1, 1, 2, 1, 1, 1, 1, 1, 1, 0, 2, 1, 2, 1, 0, 1, 0, 0, 0, 1,\n",
       "       1, 2, 1, 0, 2, 2, 1, 0, 1, 0, 1, 1, 0, 1, 0, 0, 2, 0, 0, 1, 1, 0,\n",
       "       1, 1, 1, 1, 1, 1, 1, 0, 0, 1, 1, 2, 0, 0, 0, 0, 1, 0, 2, 0, 1, 1,\n",
       "       0, 1, 1, 1, 1, 2, 1, 1, 1, 1, 1, 1, 1, 1, 1, 1, 1, 1, 0, 2, 1, 0,\n",
       "       1, 1, 1, 2, 0, 0, 1, 0, 1, 2, 1, 1, 1, 2, 1, 0, 1, 1, 1, 0, 1, 1,\n",
       "       2, 0, 1, 1, 1, 0, 1, 2, 1, 1, 1, 1, 0, 0, 0, 0, 1, 0, 1, 0, 1, 0,\n",
       "       0], dtype=int64)"
      ]
     },
     "execution_count": 35,
     "metadata": {},
     "output_type": "execute_result"
    }
   ],
   "source": [
    "import numpy as np\n",
    "rounded_labels=np.argmax(Y_test, axis=1)\n",
    "rounded_labels"
   ]
  },
  {
   "cell_type": "code",
   "execution_count": 36,
   "metadata": {},
   "outputs": [
    {
     "data": {
      "text/plain": [
       "array([[149,  64,   2],\n",
       "       [ 85, 323,  18],\n",
       "       [ 15,  22,  49]], dtype=int64)"
      ]
     },
     "execution_count": 36,
     "metadata": {},
     "output_type": "execute_result"
    }
   ],
   "source": [
    "from sklearn.metrics import confusion_matrix\n",
    "cm = confusion_matrix(rounded_labels, yhat_classes)\n",
    "cm"
   ]
  },
  {
   "cell_type": "code",
   "execution_count": 37,
   "metadata": {},
   "outputs": [
    {
     "data": {
      "image/png": "[encoded data removed]",
      "text/plain": [
       "<Figure size 360x360 with 2 Axes>"
      ]
     },
     "metadata": {
      "needs_background": "light"
     },
     "output_type": "display_data"
    }
   ],
   "source": [
    "# The confusion matrix\n",
    "from sklearn.metrics import confusion_matrix\n",
    "import seaborn as sns\n",
    "\n",
    "lstm_val = confusion_matrix(rounded_labels, yhat_classes)\n",
    "f, ax = plt.subplots(figsize=(5,5))\n",
    "sns.heatmap(lstm_val, annot=True, linewidth=0.7, linecolor='cyan', fmt='g', ax=ax, cmap=\"BuPu\")\n",
    "plt.title('LSTM Classification Confusion Matrix')\n",
    "plt.xlabel('Y predict')\n",
    "plt.ylabel('Y test')\n",
    "plt.show()"
   ]
  },
  {
   "cell_type": "code",
   "execution_count": 38,
   "metadata": {},
   "outputs": [
    {
     "name": "stdout",
     "output_type": "stream",
     "text": [
      "4/4 [==============================] - 0s 11ms/step - loss: 1.0998 - acc: 0.7607\n",
      "score: 1.10\n",
      "acc: 0.76\n"
     ]
    }
   ],
   "source": [
    "# Validation\n",
    "validation_size = 610\n",
    "\n",
    "X_validate = X_test[-validation_size:]\n",
    "Y_validate = Y_test[-validation_size:]\n",
    "X_test = X_test[:-validation_size]\n",
    "Y_test = Y_test[:-validation_size]\n",
    "score,acc = model.evaluate(X_test, Y_test, verbose = 1, batch_size = batch_size)\n",
    "\n",
    "print(\"score: %.2f\" % (score))\n",
    "print(\"acc: %.2f\" % (acc))"
   ]
  },
  {
   "cell_type": "code",
   "execution_count": 39,
   "metadata": {},
   "outputs": [],
   "source": [
    "# Save the model\n",
    "model.save('Mymodel.h5')"
   ]
  },
  {
   "cell_type": "code",
   "execution_count": 40,
   "metadata": {},
   "outputs": [
    {
     "name": "stdout",
     "output_type": "stream",
     "text": [
      "[[9.8723638e-01 4.1791354e-04 1.2345733e-02]] 0\n"
     ]
    }
   ],
   "source": [
    "# Test with new and different data set aside from the data to build the model.\n",
    "# Test 1\n",
    "message = ['Congratulations! you have won a $1,000 Walmart gift card']\n",
    "seq = tokenizer.texts_to_sequences(message)\n",
    "\n",
    "padded = pad_sequences(seq, maxlen=X.shape[1], dtype='int32', value=0)\n",
    "\n",
    "pred = model.predict(padded)\n",
    "\n",
    "labels = ['0','1','2']\n",
    "print(pred, labels[np.argmax(pred)])"
   ]
  },
  {
   "cell_type": "code",
   "execution_count": 41,
   "metadata": {},
   "outputs": [
    {
     "name": "stdout",
     "output_type": "stream",
     "text": [
      "[[9.9999762e-01 1.0559489e-06 1.3480803e-06]] 0\n"
     ]
    }
   ],
   "source": [
    "# test 2\n",
    "message = ['such massive asteroid hit will certainly create new business opportunities']\n",
    "seq = tokenizer.texts_to_sequences(message)\n",
    "\n",
    "padded = pad_sequences(seq, maxlen=X.shape[1], dtype='int32', value=0)\n",
    "\n",
    "pred = model.predict(padded)\n",
    "\n",
    "labels = ['0','1','2']\n",
    "print(pred, labels[np.argmax(pred)])"
   ]
  },
  {
   "cell_type": "code",
   "execution_count": 42,
   "metadata": {},
   "outputs": [
    {
     "name": "stdout",
     "output_type": "stream",
     "text": [
      "[[7.2783207e-10 1.0000000e+00 4.0219553e-10]] 1\n"
     ]
    }
   ],
   "source": [
    "# test 4\n",
    "message = ['so does anyone else not open Snapchat anymore ? or is it just me ... ugh this so sad.']\n",
    "seq = tokenizer.texts_to_sequences(message)\n",
    "\n",
    "padded = pad_sequences(seq, maxlen=X.shape[1], dtype='int32', value=0)\n",
    "\n",
    "pred = model.predict(padded)\n",
    "\n",
    "labels = ['0','1','2']\n",
    "print(pred, labels[np.argmax(pred)])"
   ]
  },
  {
   "cell_type": "code",
   "execution_count": 43,
   "metadata": {},
   "outputs": [
    {
     "name": "stdout",
     "output_type": "stream",
     "text": [
      "[[9.9952853e-01 3.7651797e-04 9.5002018e-05]] 0\n"
     ]
    }
   ],
   "source": [
    "# Test 5\n",
    "message = ['@elonmusk had a terrible experience with a very pushy sales guy from tesla Stanford shop while shopping for model x']\n",
    "seq = tokenizer.texts_to_sequences(message)\n",
    "\n",
    "padded = pad_sequences(seq, maxlen=X.shape[1], dtype='int32', value=0)\n",
    "\n",
    "pred = model.predict(padded)\n",
    "\n",
    "labels = ['0','1','2']\n",
    "print(pred, labels[np.argmax(pred)])"
   ]
  },
  {
   "cell_type": "code",
   "execution_count": 44,
   "metadata": {},
   "outputs": [
    {
     "name": "stdout",
     "output_type": "stream",
     "text": [
      "[[6.4313441e-05 9.9993515e-01 4.8162610e-07]] 1\n"
     ]
    }
   ],
   "source": [
    "# test 6\n",
    "message = ['The local electronics industry is expected to remain stable amid layoff concerns surrounding Japanese electronics giants operating in the country, an official says.']\n",
    "seq = tokenizer.texts_to_sequences(message)\n",
    "\n",
    "padded = pad_sequences(seq, maxlen=X.shape[1], dtype='int32', value=0)\n",
    "\n",
    "pred = model.predict(padded)\n",
    "\n",
    "labels = ['0','1','2']\n",
    "print(pred, labels[np.argmax(pred)])"
   ]
  },
  {
   "cell_type": "code",
   "execution_count": 45,
   "metadata": {},
   "outputs": [
    {
     "name": "stdout",
     "output_type": "stream",
     "text": [
      "[[1.7219327e-06 2.2136858e-07 9.9999809e-01]] 2\n"
     ]
    }
   ],
   "source": [
    "# Test 7\n",
    "message = ['The local electronics industry is amid layoff concerns and last year has laid off tens of employees']\n",
    "seq = tokenizer.texts_to_sequences(message)\n",
    "\n",
    "padded = pad_sequences(seq, maxlen=X.shape[1], dtype='int32', value=0)\n",
    "\n",
    "pred = model.predict(padded)\n",
    "\n",
    "labels = ['0','1','2']\n",
    "print(pred, labels[np.argmax(pred)])\n"
   ]
  },
  {
   "cell_type": "markdown",
   "metadata": {},
   "source": [
    "**References**\n",
    "\n",
    "    [1] Artificial Inteligence, Machine Learning and Deep Learning by Mercury Learning and Informarion (Book)\n",
    "    [2] Source Information of NLP :https://monkeylearn.com/what-is-text-classification/\n",
    "    [3] Parameter doc2vec and LSTM inspired by : https://dl.acm.org/doi/10.1145/3406601.3406624\n",
    "    [4] (Bing Liu. Sentiment Analysis and Opinion Mining, Morgan & Claypool Publishers, May 2012.)"
   ]
  },
  {
   "cell_type": "markdown",
   "metadata": {},
   "source": [
    "**Tips**\n",
    "    There are some changes in `Doc2Vec` so check youre python version and work on it"
   ]
  },
  {
   "cell_type": "code",
   "execution_count": null,
   "metadata": {},
   "outputs": [],
   "source": [
    "# Learning Continued"
   ]
  }
 ],
 "metadata": {
  "kernelspec": {
   "display_name": "Python 3",
   "language": "python",
   "name": "python3"
  },
  "language_info": {
   "codemirror_mode": {
    "name": "ipython",
    "version": 3
   },
   "file_extension": ".py",
   "mimetype": "text/x-python",
   "name": "python",
   "nbconvert_exporter": "python",
   "pygments_lexer": "ipython3",
   "version": "3.8.5"
  }
 },
 "nbformat": 4,
 "nbformat_minor": 4
}
